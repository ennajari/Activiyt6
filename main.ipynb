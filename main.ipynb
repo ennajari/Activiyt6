{
 "cells": [
  {
   "cell_type": "code",
   "execution_count": 1,
   "metadata": {},
   "outputs": [
    {
     "name": "stdout",
     "output_type": "stream",
     "text": [
      "Iteration 0: Cost = 38.4921\n",
      "Iteration 100: Cost = 0.0385\n",
      "Iteration 200: Cost = 0.0275\n",
      "Iteration 300: Cost = 0.0196\n",
      "Iteration 400: Cost = 0.0140\n",
      "Iteration 500: Cost = 0.0099\n",
      "Iteration 600: Cost = 0.0071\n",
      "Iteration 700: Cost = 0.0051\n",
      "Iteration 800: Cost = 0.0036\n",
      "Iteration 900: Cost = 0.0026\n",
      "Final parameters (theta): [[0.14212982]\n",
      " [2.96063232]]\n",
      "Predictions: [ 3.10276214  6.06339446  9.02402678 11.9846591  14.94529141]\n"
     ]
    }
   ],
   "source": [
    "import numpy as np\n",
    "\n",
    "# 1. Data\n",
    "# Simple dataset with one feature (x) and target (y)\n",
    "X = np.array([[1], [2], [3], [4], [5]])  # Feature\n",
    "y = np.array([[3], [6], [9], [12], [15]])  # Target (y = 3x)\n",
    "\n",
    "# Add bias term (intercept)\n",
    "X = np.hstack((np.ones((X.shape[0], 1)), X))  # Adding a column of ones for theta_0\n",
    "\n",
    "# 2. Initialize parameters\n",
    "m = X.shape[0]  # Number of samples\n",
    "n = X.shape[1]  # Number of features (including bias)\n",
    "theta = np.zeros((n, 1))  # Initial parameters (weights)\n",
    "\n",
    "# 3. Cost function\n",
    "def compute_cost(X, y, theta):\n",
    "    y_pred = X @ theta  # Matrix multiplication\n",
    "    cost = (1 / (2 * m)) * np.sum((y_pred - y) ** 2)  # Mean squared error\n",
    "    return cost\n",
    "\n",
    "# 4. Gradient descent\n",
    "def gradient_descent(X, y, theta, alpha, iterations):\n",
    "    for i in range(iterations):\n",
    "        y_pred = X @ theta\n",
    "        gradients = (1 / m) * (X.T @ (y_pred - y))  # Compute gradients\n",
    "        theta -= alpha * gradients  # Update parameters\n",
    "        \n",
    "        # Optional: print the cost every 100 iterations\n",
    "        if i % 100 == 0:\n",
    "            print(f\"Iteration {i}: Cost = {compute_cost(X, y, theta):.4f}\")\n",
    "    return theta\n",
    "\n",
    "# 5. Training the model\n",
    "alpha = 0.01  # Learning rate\n",
    "iterations = 1000\n",
    "theta = gradient_descent(X, y, theta, alpha, iterations)\n",
    "\n",
    "# Final parameters\n",
    "print(\"Final parameters (theta):\", theta)\n",
    "\n",
    "# 6. Predictions\n",
    "\n",
    "y_pred = X @ theta  # Make predictions\n",
    "print(\"Predictions:\", y_pred.flatten())\n"
   ]
  }
 ],
 "metadata": {
  "kernelspec": {
   "display_name": "base",
   "language": "python",
   "name": "python3"
  },
  "language_info": {
   "codemirror_mode": {
    "name": "ipython",
    "version": 3
   },
   "file_extension": ".py",
   "mimetype": "text/x-python",
   "name": "python",
   "nbconvert_exporter": "python",
   "pygments_lexer": "ipython3",
   "version": "3.12.3"
  }
 },
 "nbformat": 4,
 "nbformat_minor": 2
}
